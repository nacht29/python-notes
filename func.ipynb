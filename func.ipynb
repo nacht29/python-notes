{
 "cells": [
  {
   "cell_type": "markdown",
   "metadata": {},
   "source": [
    "# Functions"
   ]
  },
  {
   "cell_type": "markdown",
   "metadata": {},
   "source": [
    "### prototyping"
   ]
  },
  {
   "cell_type": "markdown",
   "metadata": {},
   "source": [
    "### define parameters and data types"
   ]
  },
  {
   "cell_type": "code",
   "execution_count": 8,
   "metadata": {},
   "outputs": [
    {
     "name": "stdout",
     "output_type": "stream",
     "text": [
      "[1, '2', 3]\n"
     ]
    }
   ],
   "source": [
    "def prt(msg:str):\n",
    "\tprint(msg)\n",
    "\t\n",
    "# custom descriptions\n",
    "lst = [1, '2', 3]\n",
    "def func(lst:'list of str and int'):\n",
    "\tprint(lst)\n",
    "func(lst)"
   ]
  },
  {
   "cell_type": "markdown",
   "metadata": {},
   "source": [
    "### show function return value"
   ]
  },
  {
   "cell_type": "markdown",
   "metadata": {},
   "source": [
    "#### single return value"
   ]
  },
  {
   "cell_type": "code",
   "execution_count": null,
   "metadata": {},
   "outputs": [],
   "source": [
    "def func() -> str:\n",
    "\treturn 'hi'\n",
    "\n",
    "def add(a:int, b:int) -> int:\n",
    "\treturn a + b"
   ]
  },
  {
   "cell_type": "markdown",
   "metadata": {},
   "source": [
    "#### multiple return values"
   ]
  },
  {
   "cell_type": "code",
   "execution_count": null,
   "metadata": {},
   "outputs": [],
   "source": [
    "# multiple return value\n",
    "from typing import Tuple\n",
    "from typing import Union\n",
    "\n",
    "\n",
    "def rt() -> Tuple[int, str]:\n",
    "\treturn 1, \"hello\"\n",
    "\n",
    "def ab() -> Tuple[int, str]:\n",
    "\ta: int = 1\n",
    "\tb: str = \"hello\"\n",
    "\treturn a, b\n",
    "def process(value: int) -> Union[int, str]:\n",
    "\tif value > 0:\n",
    "\t\treturn value * 2  # Returns an integer\n",
    "\telse:\n",
    "\t\treturn \"Negative value\"  # Returns a string"
   ]
  }
 ],
 "metadata": {
  "kernelspec": {
   "display_name": "Python 3",
   "language": "python",
   "name": "python3"
  },
  "language_info": {
   "codemirror_mode": {
    "name": "ipython",
    "version": 3
   },
   "file_extension": ".py",
   "mimetype": "text/x-python",
   "name": "python",
   "nbconvert_exporter": "python",
   "pygments_lexer": "ipython3",
   "version": "3.13.0"
  }
 },
 "nbformat": 4,
 "nbformat_minor": 2
}
