{
 "cells": [
  {
   "cell_type": "markdown",
   "metadata": {},
   "source": [
    "# Dictionaries"
   ]
  },
  {
   "cell_type": "markdown",
   "metadata": {},
   "source": [
    "### keys and values\n",
    "\n",
    "```python\n",
    "dict = {\n",
    "    key: value,\n",
    "    key: value\n",
    "    ...\n",
    "}\n",
    "```\n",
    "- get all keys in a dict\n",
    "- get all values in a dict\n",
    "- get keys and values in a list"
   ]
  },
  {
   "cell_type": "code",
   "execution_count": null,
   "metadata": {},
   "outputs": [
    {
     "data": {
      "text/plain": [
       "dict_keys(['a', 'b', 'c'])"
      ]
     },
     "metadata": {},
     "output_type": "display_data"
    },
    {
     "data": {
      "text/plain": [
       "dict_values([0, 1, 2])"
      ]
     },
     "metadata": {},
     "output_type": "display_data"
    },
    {
     "data": {
      "text/plain": [
       "['a', 'b', 'c']"
      ]
     },
     "metadata": {},
     "output_type": "display_data"
    },
    {
     "data": {
      "text/plain": [
       "[0, 1, 2]"
      ]
     },
     "metadata": {},
     "output_type": "display_data"
    }
   ],
   "source": [
    "dict1 = {\n",
    "\t'a': 0,\n",
    "\t'b': 1,\n",
    "\t'c': 2\n",
    "}\n",
    "\n",
    "display(\n",
    "\tdict1.keys(),\n",
    "\tdict1.values(),\n",
    "\tlist(dict1.keys()),\n",
    "\tlist(dict1.values())\n",
    ")"
   ]
  },
  {
   "cell_type": "markdown",
   "metadata": {},
   "source": [
    "### add and delete entries"
   ]
  },
  {
   "cell_type": "code",
   "execution_count": 12,
   "metadata": {},
   "outputs": [
    {
     "name": "stdout",
     "output_type": "stream",
     "text": [
      "add: {'a': 0, 'b': 1, 'c': 2, 'd': 4}\n",
      "remove: {'a': 0, 'b': 1, 'd': 4}\n"
     ]
    }
   ],
   "source": [
    "dict1 = {\n",
    "\t'a': 0,\n",
    "\t'b': 1,\n",
    "\t'c': 2\n",
    "}\n",
    "\n",
    "\n",
    "# adding entry\n",
    "dict1['d'] = 4\n",
    "print(f'add: {dict1}')\n",
    "\n",
    "# remove entry\n",
    "del(dict1['c'])\n",
    "print(f'remove: {dict1}')"
   ]
  },
  {
   "cell_type": "markdown",
   "metadata": {},
   "source": [
    "### finding a key among a list of dicts"
   ]
  },
  {
   "cell_type": "code",
   "execution_count": null,
   "metadata": {},
   "outputs": [],
   "source": [
    "students = [\n",
    "\t{\"name\": \"Chan\", \"age\": 18},\n",
    "\t{\"name\": \"Yeo\", \"age\": 18}\n",
    "]\n",
    "\n",
    "find = \"Chan\"\n",
    "for search in students:\n",
    "\tif search[\"name\"] == find:\n",
    "\t\tprint(search)\n",
    "\t\t# this is how you format the output\n",
    "\t\tprint(search[\"name\"], search[\"age\"], sep = ',')"
   ]
  },
  {
   "cell_type": "markdown",
   "metadata": {},
   "source": [
    "### finding one key from a single dict"
   ]
  },
  {
   "cell_type": "code",
   "execution_count": 2,
   "metadata": {},
   "outputs": [
    {
     "name": "stdout",
     "output_type": "stream",
     "text": [
      "Her 18\n"
     ]
    }
   ],
   "source": [
    "ppl = {\n",
    "\t\"Her\": 18,\n",
    "\t\"Ron\": 18,\n",
    "}\n",
    "\n",
    "# for loop iterates thru the keys\n",
    "# hence, search means the key\n",
    "# ppl[search] prints out the value of key\n",
    "find = \"He\"\n",
    "for search in ppl:\n",
    "\tif find == search:\n",
    "\t\tprint(search, ppl[search])\n",
    "\n",
    "# one interesting trick:\n",
    "# this also return an output because He is a substr of Her\n",
    "# hence, He is in Her\n",
    "find = \"He\"\n",
    "for search in ppl:\n",
    "\tif find in search:\n",
    "\t\tprint(search, ppl[search])"
   ]
  },
  {
   "cell_type": "markdown",
   "metadata": {},
   "source": [
    "### dict modification (VERY IMPORTANT)\n",
    "\n",
    "- DICTS ARE MODIFIED IN PLACE\n",
    "- notice how grocery = update_list(grocery, item) is not needed\n",
    "\n",
    "P.S. test this in a .py file"
   ]
  },
  {
   "cell_type": "code",
   "execution_count": null,
   "metadata": {},
   "outputs": [],
   "source": [
    "def update_list(grocery, item):\n",
    "\tif item in grocery:\n",
    "\t\tgrocery[item] += 1\n",
    "\telse:\n",
    "\t\tgrocery[item] = 1\n",
    "\n",
    "def print_groc():\n",
    "\tfor i in grocery:\n",
    "\t\tprint(grocery[i], i)\n",
    "\n",
    "grocery = {}\n",
    "while True:\n",
    "\ttry:\n",
    "\t\titem = input().strip().upper()\n",
    "\t\tif item == 'done':\n",
    "\t\t\tbreak\n",
    "\t\tupdate_list(grocery, item)\n",
    "\texcept EOFError:\n",
    "\t\tprint()\n",
    "\t\tprint_groc()\n",
    "\texcept KeyboardInterrupt:\n",
    "\t\tprint()\n",
    "\t\tprint_groc()\n",
    "\t\tbreak"
   ]
  }
 ],
 "metadata": {
  "kernelspec": {
   "display_name": "Python 3",
   "language": "python",
   "name": "python3"
  },
  "language_info": {
   "codemirror_mode": {
    "name": "ipython",
    "version": 3
   },
   "file_extension": ".py",
   "mimetype": "text/x-python",
   "name": "python",
   "nbconvert_exporter": "python",
   "pygments_lexer": "ipython3",
   "version": "3.13.0"
  }
 },
 "nbformat": 4,
 "nbformat_minor": 2
}
