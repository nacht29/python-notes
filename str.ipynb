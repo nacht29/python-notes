{
 "cells": [
  {
   "cell_type": "markdown",
   "metadata": {},
   "source": [
    "# Strings"
   ]
  },
  {
   "cell_type": "markdown",
   "metadata": {},
   "source": [
    "### indexing\n",
    "\n",
    "- positive index\n",
    "- negative index"
   ]
  },
  {
   "cell_type": "code",
   "execution_count": null,
   "metadata": {},
   "outputs": [
    {
     "name": "stdout",
     "output_type": "stream",
     "text": [
      "b\n",
      "e\n"
     ]
    }
   ],
   "source": [
    "s = 'abcde'\n",
    "print(s[1])\n",
    "# using -ve values\n",
    "print(s[-1])"
   ]
  },
  {
   "cell_type": "markdown",
   "metadata": {},
   "source": [
    "### printing on a single line\n",
    "\n",
    "- use ```end``` to replace the '\\n' that is added by default\n",
    "- when printing:\n",
    "\n",
    "    ```python\n",
    "    print('hello')\n",
    "    ```\n",
    "    is like \n",
    "    ```python\n",
    "    print('hello', end='\\n')\n",
    "    ```"
   ]
  },
  {
   "cell_type": "code",
   "execution_count": 7,
   "metadata": {},
   "outputs": [
    {
     "name": "stdout",
     "output_type": "stream",
     "text": [
      "helloworld\n",
      "HELLO WORLD!\n"
     ]
    }
   ],
   "source": [
    "print(\"hello\", end = '')\n",
    "print(\"world\")\n",
    "\n",
    "print('HELLO', end = ' ')\n",
    "print('WORLD!')"
   ]
  },
  {
   "cell_type": "markdown",
   "metadata": {},
   "source": [
    "### split()"
   ]
  },
  {
   "cell_type": "code",
   "execution_count": 2,
   "metadata": {},
   "outputs": [
    {
     "name": "stdout",
     "output_type": "stream",
     "text": [
      "['Chan', 'Yan', 'Zhe']\n"
     ]
    }
   ],
   "source": [
    "# returns an array of split substrings\n",
    "name = 'Chan Yan Zhe'\n",
    "str_arr = name.split(' ')\n",
    "print(str_arr)\n",
    "\n",
    "# assigns split substrings to specific variables\n",
    "s = 'Don Bon'\n",
    "a,b = s.split(' ')\n",
    "print(a)"
   ]
  },
  {
   "cell_type": "markdown",
   "metadata": {},
   "source": [
    "### split() error\n",
    "\n",
    "- make sure the number of varables match the number of subtrings when using mutltiple vars to store split results"
   ]
  },
  {
   "cell_type": "code",
   "execution_count": 5,
   "metadata": {},
   "outputs": [
    {
     "ename": "ValueError",
     "evalue": "too many values to unpack (expected 2)",
     "output_type": "error",
     "traceback": [
      "\u001b[1;31m---------------------------------------------------------------------------\u001b[0m",
      "\u001b[1;31mValueError\u001b[0m                                Traceback (most recent call last)",
      "Cell \u001b[1;32mIn[5], line 2\u001b[0m\n\u001b[0;32m      1\u001b[0m s \u001b[38;5;241m=\u001b[39m \u001b[38;5;124m'\u001b[39m\u001b[38;5;124mChan Yan Zhe\u001b[39m\u001b[38;5;124m'\u001b[39m\n\u001b[1;32m----> 2\u001b[0m a,b \u001b[38;5;241m=\u001b[39m s\u001b[38;5;241m.\u001b[39msplit(\u001b[38;5;124m'\u001b[39m\u001b[38;5;124m \u001b[39m\u001b[38;5;124m'\u001b[39m)\n\u001b[0;32m      3\u001b[0m \u001b[38;5;28mprint\u001b[39m(a)\n",
      "\u001b[1;31mValueError\u001b[0m: too many values to unpack (expected 2)"
     ]
    }
   ],
   "source": [
    "s = 'Chan Yan Zhe'\n",
    "a,b = s.split(' ')\n",
    "print(a)"
   ]
  },
  {
   "cell_type": "markdown",
   "metadata": {},
   "source": [
    "### match cases\n",
    "\n",
    "This syntax is combining two features of pattern matching:\n",
    "\n",
    "- Capture patterns: case name\n",
    "- Guard clauses: if name in gryf\n",
    "\n",
    "The full syntax ```case <pattern> if <guard>```: allows you to specify both a pattern to match and an additional condition that must be met.\n",
    "\n",
    "In your specific example:\n",
    "\n",
    "The pattern name will match any value (since it's just a variable name with no constraints).\n",
    "The guard if name in gryf adds the condition that this matched value must be in the gryf list."
   ]
  },
  {
   "cell_type": "code",
   "execution_count": 12,
   "metadata": {},
   "outputs": [
    {
     "name": "stdout",
     "output_type": "stream",
     "text": [
      "Gryffindor\n"
     ]
    }
   ],
   "source": [
    "gryf = [\"Harry\", \"Ron\", \"Hermione\"]\n",
    "slyt = [\"Draco\", \"Crabbe\", \"Goyle\"]\n",
    "# search = input(\"name: \")\n",
    "search = 'Harry'\n",
    "match search:\n",
    "\tcase search if search in gryf:\n",
    "\t\tprint(\"Gryffindor\")\n",
    "\tcase search if search in slyt:\n",
    "\t\tprint(\"Slytherin\")\n",
    "\tcase _:\n",
    "\t\tprint(\"Not found in any house\")"
   ]
  },
  {
   "cell_type": "markdown",
   "metadata": {},
   "source": [
    "match case is good for repetitive condtitionals while avoiding a ton of if elif else"
   ]
  },
  {
   "cell_type": "code",
   "execution_count": 13,
   "metadata": {},
   "outputs": [
    {
     "name": "stdout",
     "output_type": "stream",
     "text": [
      "A\n"
     ]
    }
   ],
   "source": [
    "grade = 70\n",
    "match grade:\n",
    "\tcase grade if grade >= 70:\n",
    "\t\tprint('A')\n",
    "\tcase grade if grade >= 80:\n",
    "\t\tprint('B')\n",
    "\tcase grade if grade >= 90:\n",
    "\t\tprint('C')"
   ]
  },
  {
   "cell_type": "markdown",
   "metadata": {},
   "source": [
    "### slicing\n",
    "\n",
    "syntax: ```s[a:b]```\n",
    "- a = starting index\n",
    "- b = num of char including starting index"
   ]
  },
  {
   "cell_type": "code",
   "execution_count": 14,
   "metadata": {},
   "outputs": [
    {
     "name": "stdout",
     "output_type": "stream",
     "text": [
      "el\n"
     ]
    }
   ],
   "source": [
    "s = 'hello'\n",
    "print(s[1:3])"
   ]
  },
  {
   "cell_type": "markdown",
   "metadata": {},
   "source": [
    "### striding\n",
    "\n",
    "syntax: ```s[a:b:c]```\n",
    "- a = starting index\n",
    "- b = num of char including starting index\n",
    "- c = every n characters"
   ]
  },
  {
   "cell_type": "code",
   "execution_count": 16,
   "metadata": {},
   "outputs": [
    {
     "name": "stdout",
     "output_type": "stream",
     "text": [
      "b e h\n"
     ]
    }
   ],
   "source": [
    "s = 'abc def ghi'\n",
    "print(s[1:len(s):2])"
   ]
  },
  {
   "cell_type": "code",
   "execution_count": 22,
   "metadata": {},
   "outputs": [
    {
     "data": {
      "text/plain": [
       "'Python'"
      ]
     },
     "execution_count": 22,
     "metadata": {},
     "output_type": "execute_result"
    }
   ],
   "source": [
    "x ='Fun Python'\n",
    "x[4:10]"
   ]
  }
 ],
 "metadata": {
  "kernelspec": {
   "display_name": "Python 3",
   "language": "python",
   "name": "python3"
  },
  "language_info": {
   "codemirror_mode": {
    "name": "ipython",
    "version": 3
   },
   "file_extension": ".py",
   "mimetype": "text/x-python",
   "name": "python",
   "nbconvert_exporter": "python",
   "pygments_lexer": "ipython3",
   "version": "3.13.0"
  }
 },
 "nbformat": 4,
 "nbformat_minor": 2
}
