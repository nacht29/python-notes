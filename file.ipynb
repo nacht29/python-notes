{
 "cells": [
  {
   "cell_type": "markdown",
   "metadata": {},
   "source": [
    "# Files"
   ]
  },
  {
   "cell_type": "markdown",
   "metadata": {},
   "source": [
    "### open file and extract contents in safe manner\n",
    "\n",
    "- use ```with open``` so that the files are safely opened and closed\n",
    "- this is a demo to read contents from a file and close it"
   ]
  },
  {
   "cell_type": "code",
   "execution_count": null,
   "metadata": {},
   "outputs": [],
   "source": [
    "# open file and extract contents in safe manner\n",
    "try:\n",
    "\twith open('utils/t.txt', 'r') as file:\n",
    "\t\tcontent = file.read()\n",
    "\t\tprint(content)\n",
    "except FileNotFoundError:\n",
    "\tprint('file not found')"
   ]
  }
 ],
 "metadata": {
  "language_info": {
   "name": "python"
  }
 },
 "nbformat": 4,
 "nbformat_minor": 2
}
