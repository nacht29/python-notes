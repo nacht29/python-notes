{
 "cells": [
  {
   "cell_type": "markdown",
   "metadata": {},
   "source": [
    "## Importing modules"
   ]
  },
  {
   "cell_type": "code",
   "execution_count": 29,
   "metadata": {},
   "outputs": [],
   "source": [
    "import re\n",
    "import warnings\n",
    "import datetime\n",
    "import pandas as pd\n",
    "import numpy as np\n",
    "import seaborn as sb\n",
    "import matplotlib.pyplot as plt\n",
    "\n",
    "warnings.filterwarnings('ignore')"
   ]
  },
  {
   "cell_type": "markdown",
   "metadata": {},
   "source": [
    "## Importing and examining data\n",
    "\n",
    "- ```user_name``` has unstandardized capitalization\n",
    "- ```login_time``` has mixed ```datetime``` formats\n",
    "- ```duration``` needs to be formatted to trim away units and be converted to numerical (float) data"
   ]
  },
  {
   "cell_type": "code",
   "execution_count": 32,
   "metadata": {},
   "outputs": [
    {
     "name": "stdout",
     "output_type": "stream",
     "text": [
      "<class 'pandas.core.frame.DataFrame'>\n",
      "RangeIndex: 8 entries, 0 to 7\n",
      "Data columns (total 5 columns):\n",
      " #   Column      Non-Null Count  Dtype \n",
      "---  ------      --------------  ----- \n",
      " 0   id          8 non-null      int64 \n",
      " 1   user_name   8 non-null      object\n",
      " 2   login_time  8 non-null      object\n",
      " 3   activity    8 non-null      object\n",
      " 4   duration    8 non-null      object\n",
      "dtypes: int64(1), object(4)\n",
      "memory usage: 452.0+ bytes\n"
     ]
    },
    {
     "data": {
      "text/html": [
       "<div>\n",
       "<style scoped>\n",
       "    .dataframe tbody tr th:only-of-type {\n",
       "        vertical-align: middle;\n",
       "    }\n",
       "\n",
       "    .dataframe tbody tr th {\n",
       "        vertical-align: top;\n",
       "    }\n",
       "\n",
       "    .dataframe thead th {\n",
       "        text-align: right;\n",
       "    }\n",
       "</style>\n",
       "<table border=\"1\" class=\"dataframe\">\n",
       "  <thead>\n",
       "    <tr style=\"text-align: right;\">\n",
       "      <th></th>\n",
       "      <th>id</th>\n",
       "      <th>user_name</th>\n",
       "      <th>login_time</th>\n",
       "      <th>activity</th>\n",
       "      <th>duration</th>\n",
       "    </tr>\n",
       "  </thead>\n",
       "  <tbody>\n",
       "    <tr>\n",
       "      <th>0</th>\n",
       "      <td>1</td>\n",
       "      <td>Alice</td>\n",
       "      <td>2024-02-17 9:05am</td>\n",
       "      <td>Logged in</td>\n",
       "      <td>10 min</td>\n",
       "    </tr>\n",
       "    <tr>\n",
       "      <th>1</th>\n",
       "      <td>2</td>\n",
       "      <td>BOB</td>\n",
       "      <td>17-02-2024 09:10 AM</td>\n",
       "      <td>Viewed Report</td>\n",
       "      <td>9.5minutes</td>\n",
       "    </tr>\n",
       "    <tr>\n",
       "      <th>2</th>\n",
       "      <td>3</td>\n",
       "      <td>Charlie</td>\n",
       "      <td>2024/02/17 09:15:30</td>\n",
       "      <td>Downloaded File</td>\n",
       "      <td>8mins</td>\n",
       "    </tr>\n",
       "    <tr>\n",
       "      <th>3</th>\n",
       "      <td>4</td>\n",
       "      <td>alice</td>\n",
       "      <td>17-02-2024 9:20</td>\n",
       "      <td>Logged out</td>\n",
       "      <td>7,0 minutes</td>\n",
       "    </tr>\n",
       "    <tr>\n",
       "      <th>4</th>\n",
       "      <td>5</td>\n",
       "      <td>Eve</td>\n",
       "      <td>17-Feb-2024 09:25AM</td>\n",
       "      <td>Uploaded File</td>\n",
       "      <td>6 mins</td>\n",
       "    </tr>\n",
       "  </tbody>\n",
       "</table>\n",
       "</div>"
      ],
      "text/plain": [
       "   id user_name           login_time         activity     duration\n",
       "0   1    Alice     2024-02-17 9:05am        Logged in       10 min\n",
       "1   2       BOB  17-02-2024 09:10 AM    Viewed Report   9.5minutes\n",
       "2   3   Charlie  2024/02/17 09:15:30  Downloaded File        8mins\n",
       "3   4     alice      17-02-2024 9:20       Logged out  7,0 minutes\n",
       "4   5       Eve  17-Feb-2024 09:25AM    Uploaded File       6 mins"
      ]
     },
     "execution_count": 32,
     "metadata": {},
     "output_type": "execute_result"
    }
   ],
   "source": [
    "df = pd.read_csv('practice.csv')\n",
    "df.info()\n",
    "df.head()"
   ]
  },
  {
   "cell_type": "markdown",
   "metadata": {},
   "source": [
    "## Cleaning data"
   ]
  },
  {
   "cell_type": "code",
   "execution_count": 35,
   "metadata": {},
   "outputs": [
    {
     "name": "stdout",
     "output_type": "stream",
     "text": [
      "<class 'pandas.core.frame.DataFrame'>\n",
      "RangeIndex: 8 entries, 0 to 7\n",
      "Data columns (total 5 columns):\n",
      " #   Column      Non-Null Count  Dtype  \n",
      "---  ------      --------------  -----  \n",
      " 0   id          8 non-null      int64  \n",
      " 1   user_name   8 non-null      object \n",
      " 2   login_time  8 non-null      object \n",
      " 3   activity    8 non-null      object \n",
      " 4   duration    8 non-null      float64\n",
      "dtypes: float64(1), int64(1), object(3)\n",
      "memory usage: 452.0+ bytes\n"
     ]
    },
    {
     "data": {
      "text/html": [
       "<div>\n",
       "<style scoped>\n",
       "    .dataframe tbody tr th:only-of-type {\n",
       "        vertical-align: middle;\n",
       "    }\n",
       "\n",
       "    .dataframe tbody tr th {\n",
       "        vertical-align: top;\n",
       "    }\n",
       "\n",
       "    .dataframe thead th {\n",
       "        text-align: right;\n",
       "    }\n",
       "</style>\n",
       "<table border=\"1\" class=\"dataframe\">\n",
       "  <thead>\n",
       "    <tr style=\"text-align: right;\">\n",
       "      <th></th>\n",
       "      <th>id</th>\n",
       "      <th>user_name</th>\n",
       "      <th>login_time</th>\n",
       "      <th>activity</th>\n",
       "      <th>duration</th>\n",
       "    </tr>\n",
       "  </thead>\n",
       "  <tbody>\n",
       "    <tr>\n",
       "      <th>0</th>\n",
       "      <td>1</td>\n",
       "      <td>Alice</td>\n",
       "      <td>2024-02-17 9:05am</td>\n",
       "      <td>Logged in</td>\n",
       "      <td>10.0</td>\n",
       "    </tr>\n",
       "    <tr>\n",
       "      <th>1</th>\n",
       "      <td>2</td>\n",
       "      <td>Bob</td>\n",
       "      <td>17-02-2024 09:10 AM</td>\n",
       "      <td>Viewed Report</td>\n",
       "      <td>9.5</td>\n",
       "    </tr>\n",
       "    <tr>\n",
       "      <th>2</th>\n",
       "      <td>3</td>\n",
       "      <td>Charlie</td>\n",
       "      <td>2024/02/17 09:15:30</td>\n",
       "      <td>Downloaded File</td>\n",
       "      <td>8.0</td>\n",
       "    </tr>\n",
       "    <tr>\n",
       "      <th>3</th>\n",
       "      <td>4</td>\n",
       "      <td>Alice</td>\n",
       "      <td>17-02-2024 9:20</td>\n",
       "      <td>Logged out</td>\n",
       "      <td>7.0</td>\n",
       "    </tr>\n",
       "    <tr>\n",
       "      <th>4</th>\n",
       "      <td>5</td>\n",
       "      <td>Eve</td>\n",
       "      <td>17-Feb-2024 09:25AM</td>\n",
       "      <td>Uploaded File</td>\n",
       "      <td>6.0</td>\n",
       "    </tr>\n",
       "  </tbody>\n",
       "</table>\n",
       "</div>"
      ],
      "text/plain": [
       "   id user_name           login_time         activity  duration\n",
       "0   1    Alice     2024-02-17 9:05am        Logged in      10.0\n",
       "1   2       Bob  17-02-2024 09:10 AM    Viewed Report       9.5\n",
       "2   3   Charlie  2024/02/17 09:15:30  Downloaded File       8.0\n",
       "3   4     Alice      17-02-2024 9:20       Logged out       7.0\n",
       "4   5       Eve  17-Feb-2024 09:25AM    Uploaded File       6.0"
      ]
     },
     "execution_count": 35,
     "metadata": {},
     "output_type": "execute_result"
    }
   ],
   "source": [
    "# clean columns that should contain numerical data\n",
    "def clean_numeric(text:str):\n",
    "\tif pd.isna(text):\n",
    "\t\treturn None\n",
    "\t# once the func is applied the column in the df will be converted to float\n",
    "\t# using replace on flat causes AttributeError\n",
    "\ttry:\n",
    "\t\ttext = text.replace(',','.')\n",
    "\texcept AttributeError:\n",
    "\t\treturn text # return the data as is, for in this case the data is already converted to float\n",
    "\tnum_data = re.search(r\"\\d+(\\.\\d+)?\", text)\n",
    "\tif num_data:\n",
    "\t\treturn float(num_data.group())\n",
    "\n",
    "# clean columns that should contain datetime data\n",
    "def clean_datetime(date_series):\n",
    "\t# use errors='coerce' to return NaT (Not a Time) in case of error\n",
    "\t# dayfirst to make sure that the first number read is intepreted as days\n",
    "\tdate_series = pd.to_datetime(date_series, format='mixed', dayfirst=True, errors='coerce')\n",
    "\t# if isna detects None (null val) or NaT and set NaT to None\n",
    "\tif pd.isna(date_series):\n",
    "\t\treturn None\n",
    "\treturn date_series\n",
    "\n",
    "df['login_time'].apply(clean_datetime)\n",
    "df['user_name']  = df['user_name'].str.title() # add .str to directly modify str data columns\n",
    "df['duration'] = df['duration'].apply(clean_numeric)\n",
    "\n",
    "df.info()\n",
    "df.head()"
   ]
  }
 ],
 "metadata": {
  "kernelspec": {
   "display_name": "Python 3",
   "language": "python",
   "name": "python3"
  },
  "language_info": {
   "codemirror_mode": {
    "name": "ipython",
    "version": 3
   },
   "file_extension": ".py",
   "mimetype": "text/x-python",
   "name": "python",
   "nbconvert_exporter": "python",
   "pygments_lexer": "ipython3",
   "version": "3.13.0"
  }
 },
 "nbformat": 4,
 "nbformat_minor": 2
}
